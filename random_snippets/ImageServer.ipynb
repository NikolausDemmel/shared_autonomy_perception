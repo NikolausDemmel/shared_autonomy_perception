{
 "metadata": {
  "name": "ImageServer"
 }, 
 "nbformat": 2, 
 "worksheets": [
  {
   "cells": [
    {
     "cell_type": "code", 
     "collapsed": true, 
     "input": [
      "import roslib", 
      "roslib.load_manifest('smach_experiments')"
     ], 
     "language": "python", 
     "outputs": [], 
     "prompt_number": 1
    }, 
    {
     "cell_type": "code", 
     "collapsed": true, 
     "input": [
      "import rospy"
     ], 
     "language": "python", 
     "outputs": [], 
     "prompt_number": 2
    }, 
    {
     "cell_type": "code", 
     "collapsed": true, 
     "input": [
      "rospy.init_node('testing_image_transport')"
     ], 
     "language": "python", 
     "outputs": [], 
     "prompt_number": 3
    }, 
    {
     "cell_type": "code", 
     "collapsed": true, 
     "input": [
      "from rgbd_assembler.srv import RgbdAssembly"
     ], 
     "language": "python", 
     "outputs": [], 
     "prompt_number": 4
    }, 
    {
     "cell_type": "code", 
     "collapsed": true, 
     "input": [
      "from sensor_msgs.msg import Image", 
      "from sensor_msgs.msg import PointCloud2"
     ], 
     "language": "python", 
     "outputs": [], 
     "prompt_number": 5
    }, 
    {
     "cell_type": "code", 
     "collapsed": true, 
     "input": [
      "get_kinect_data = rospy.ServiceProxy('/rgbd_assembly', RgbdAssembly)"
     ], 
     "language": "python", 
     "outputs": [], 
     "prompt_number": 6
    }, 
    {
     "cell_type": "code", 
     "collapsed": false, 
     "input": [
      "data = get_kinect_data()"
     ], 
     "language": "python", 
     "outputs": [], 
     "prompt_number": 15
    }, 
    {
     "cell_type": "code", 
     "collapsed": true, 
     "input": [
      "im_pub = rospy.Publisher('/lindzey_image', Image)"
     ], 
     "language": "python", 
     "outputs": [], 
     "prompt_number": 8
    }, 
    {
     "cell_type": "code", 
     "collapsed": true, 
     "input": [
      "im_pub.publish(data.image)"
     ], 
     "language": "python", 
     "outputs": [], 
     "prompt_number": 9
    }, 
    {
     "cell_type": "code", 
     "collapsed": true, 
     "input": [
      "pt_pub = rospy.Publisher('/lindzey_pts', PointCloud2)"
     ], 
     "language": "python", 
     "outputs": [], 
     "prompt_number": 10
    }, 
    {
     "cell_type": "code", 
     "collapsed": true, 
     "input": [
      "pt_pub.publish(data.point_cloud)"
     ], 
     "language": "python", 
     "outputs": [], 
     "prompt_number": 14
    }, 
    {
     "cell_type": "code", 
     "collapsed": false, 
     "input": [
      "data.point_cloud.header"
     ], 
     "language": "python", 
     "outputs": [
      {
       "output_type": "pyout", 
       "prompt_number": 13, 
       "text": [
        "seq: 1", 
        "stamp: ", 
        "  secs: 1379725274", 
        "  nsecs: 184368568", 
        "frame_id: /head_mount_kinect_rgb_optical_frame"
       ]
      }
     ], 
     "prompt_number": 13
    }, 
    {
     "cell_type": "code", 
     "collapsed": false, 
     "input": [
      "data.point_cloud.fields"
     ], 
     "language": "python", 
     "outputs": [
      {
       "output_type": "pyout", 
       "prompt_number": 13, 
       "text": [
        "[name: x", 
        "offset: 0", 
        "datatype: 7", 
        "count: 1,", 
        " name: y", 
        "offset: 4", 
        "datatype: 7", 
        "count: 1,", 
        " name: z", 
        "offset: 8", 
        "datatype: 7", 
        "count: 1,", 
        " name: rgb", 
        "offset: 16", 
        "datatype: 7", 
        "count: 1]"
       ]
      }
     ], 
     "prompt_number": 13
    }, 
    {
     "cell_type": "code", 
     "collapsed": true, 
     "input": [], 
     "language": "python", 
     "outputs": []
    }
   ]
  }
 ]
}
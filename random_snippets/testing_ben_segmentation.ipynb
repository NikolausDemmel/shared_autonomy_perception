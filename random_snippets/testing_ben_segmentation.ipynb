{
 "metadata": {
  "name": "testing_ben_segmentation"
 }, 
 "nbformat": 2, 
 "worksheets": [
  {
   "cells": [
    {
     "cell_type": "code", 
     "collapsed": true, 
     "input": [
      "import rospy", 
      "import actionlib", 
      "from cv_bridge import CvBridge", 
      "from sensor_msgs.msg import Image, CameraInfo, PointCloud2", 
      "from shared_autonomy_msgs.msg import SegmentGoal, SegmentAction", 
      "from shared_autonomy_msgs.srv import KinectAssembly"
     ], 
     "language": "python", 
     "outputs": [], 
     "prompt_number": 4
    }, 
    {
     "cell_type": "code", 
     "collapsed": true, 
     "input": [
      "rospy.init_node('testing_ben_segmentation')"
     ], 
     "language": "python", 
     "outputs": [], 
     "prompt_number": 7
    }, 
    {
     "cell_type": "code", 
     "collapsed": false, 
     "input": [
      "kinect_client = rospy.ServiceProxy('assemble_kinect', KinectAssembly)", 
      "segment_client = actionlib.SimpleActionClient('/ben_segmentation_node', SegmentAction)"
     ], 
     "language": "python", 
     "outputs": [], 
     "prompt_number": 24
    }, 
    {
     "cell_type": "code", 
     "collapsed": true, 
     "input": [
      "bridge = CvBridge()"
     ], 
     "language": "python", 
     "outputs": [], 
     "prompt_number": 28
    }, 
    {
     "cell_type": "code", 
     "collapsed": false, 
     "input": [
      "resp = kinect_client()", 
      "goal = SegmentGoal()", 
      "goal.image = resp.image", 
      "goal.depth = resp.depth", 
      "segment_client.send_goal(goal)", 
      "segment_client.wait_for_result()", 
      "seg_result = segment_client.get_result()"
     ], 
     "language": "python", 
     "outputs": [], 
     "prompt_number": 31
    }, 
    {
     "cell_type": "code", 
     "collapsed": false, 
     "input": [
      "img = bridge.imgmsg_to_cv(seg_result.mask)"
     ], 
     "language": "python", 
     "outputs": [], 
     "prompt_number": 32
    }, 
    {
     "cell_type": "code", 
     "collapsed": false, 
     "input": [
      "imshow(img)"
     ], 
     "language": "python", 
     "outputs": [
      {
       "output_type": "pyout", 
       "prompt_number": 33, 
       "text": [
        "<matplotlib.image.AxesImage at 0x3eb1a90>"
       ]
      }, 
      {
       "output_type": "display_data", 
       "png": "[encoded data removed]"
      }
     ], 
     "prompt_number": 33
    }, 
    {
     "cell_type": "code", 
     "collapsed": false, 
     "input": [
      "img[300, 300]"
     ], 
     "language": "python", 
     "outputs": [
      {
       "output_type": "pyout", 
       "prompt_number": 36, 
       "text": [
        "1.0"
       ]
      }
     ], 
     "prompt_number": 36
    }, 
    {
     "cell_type": "code", 
     "collapsed": false, 
     "input": [
      "idxs = [[ii, jj] for jj in range(img.cols) for ii in range(img.rows) if img[ii, jj] > 0]"
     ], 
     "language": "python", 
     "outputs": [], 
     "prompt_number": 41
    }, 
    {
     "cell_type": "code", 
     "collapsed": true, 
     "input": [], 
     "language": "python", 
     "outputs": []
    }
   ]
  }
 ]
}
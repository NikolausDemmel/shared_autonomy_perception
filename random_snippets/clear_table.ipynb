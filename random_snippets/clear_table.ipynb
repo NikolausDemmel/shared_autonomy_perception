{
 "metadata": {
  "name": "clear_table"
 }, 
 "nbformat": 2, 
 "worksheets": [
  {
   "cells": [
    {
     "cell_type": "code", 
     "collapsed": true, 
     "input": [
      "import math", 
      "import numpy as np", 
      "", 
      "import rospy", 
      "import actionlib", 
      "from cv_bridge import CvBridge", 
      "import clear_table.handle_point_cloud2 as pts", 
      "import sensor_msgs # for converting point clouds", 
      "import smach", 
      "import smach_ros", 
      "import tf", 
      "", 
      "# modules imported", 
      "from cluster_grasp_planner import draw_functions", 
      "", 
      "# messages imported", 
      "from actionlib_msgs.msg import GoalStatus", 
      "from geometry_msgs.msg import Pose, PoseStamped, Point, Vector3", 
      "from cluster_grasp_planner.srv import GraspPlanning, GraspPlanningRequest", 
      "from moveit_msgs.msg import AttachedCollisionObject, CollisionObject, PickupAction, PickupGoal, PlaceAction, PlaceGoal, PlaceLocation", 
      "from moveit_msgs.msg import Grasp, GripperTranslation, PlanningSceneComponents, PlanningScene, PlanningSceneWorld", 
      "from moveit_msgs.srv import GetPlanningScene, GetPlanningSceneRequest", 
      "from shape_msgs.msg import SolidPrimitive", 
      "from cluster_grasp_planner.srv import FindClusterBoundingBox2, FindClusterBoundingBox2Request", 
      "from sensor_msgs.msg import PointCloud, PointCloud2", 
      "from shared_autonomy_msgs.msg import SegmentGoal, SegmentAction", 
      "from shared_autonomy_msgs.srv import KinectAssembly", 
      "from trajectory_msgs.msg import JointTrajectoryPoint"
     ], 
     "language": "python", 
     "outputs": [], 
     "prompt_number": 1
    }, 
    {
     "cell_type": "code", 
     "collapsed": true, 
     "input": [
      "class Segmenter():", 
      "    def __init__(self):", 
      "", 
      "        print 'initializing Segment'", 
      "", 
      "        self.kinect_client = rospy.ServiceProxy('head_mount_kinect/assemble_kinect', KinectAssembly)", 
      "        self.point_publisher = rospy.Publisher('segmented_points', PointCloud2)", 
      "        self.segment_client = actionlib.SimpleActionClient('segment_service', SegmentAction)", 
      "", 
      "", 
      "    def execute(self):", 
      "", 
      "        print \"waiting for assemble_kinect service\"", 
      "        rospy.wait_for_service('head_mount_kinect/assemble_kinect')", 
      "        print \"... got service\"", 
      "", 
      "        print \"waiting for segmentation server\"", 
      "        self.segment_client.wait_for_server()    ", 
      "        print \"... got segmentation server\"", 
      "", 
      "        try:", 
      "            kinect_data = self.kinect_client()", 
      "        except rospy.ServiceException:", 
      "            print 'clear_table unable to get kinect data!'", 
      "            rospy.sleep(5.0)", 
      "            return 'no_data'", 
      "        ", 
      "        goal = SegmentGoal()", 
      "        goal.image = kinect_data.image", 
      "        goal.depth = kinect_data.depth", 
      "", 
      "        print \"Attempting to get segmentation\"", 
      "        self.mask = None", 
      "        self.segment_client.send_goal(goal)", 
      "        self.segment_client.wait_for_result()", 
      "        if self.segment_client.get_state() != GoalStatus.SUCCEEDED:", 
      "            return None", 
      "        result = self.segment_client.get_result()", 
      "        self.mask = result.mask", 
      "        print \"... got segmentation\"", 
      "", 
      "        points = self.get_point_cloud(kinect_data, result.mask)", 
      "        self.point_publisher.publish(points)", 
      "", 
      "        return points", 
      "    ", 
      "    def get_point_cloud(self, data, mask):", 
      "        print \"I should be publishing points!\"", 
      "        mybridge = CvBridge()", 
      "        img = mybridge.imgmsg_to_cv(mask)", 
      "", 
      "        # TODO: depend on the read_points that should be in common_msgs?", 
      "        # TODO: why didn't the uvs=idxs code work? x", 
      "        pt_gen = pts.read_points(data.points)#, uvs=idxs, skip_nans=True) # this didn't work!!", 
      "", 
      "        out_pts = []", 
      "        for jj in range(data.points.height):", 
      "            for ii in range(data.points.width):", 
      "                pt = pt_gen.next()", 
      "                if not math.isnan(pt[0]):", 
      "                    if (img[jj,ii] == 1 or img[jj,ii]==3):", 
      "                        out_pts.append(pt[0:3])", 
      "        print \"done creating output point cloud\"", 
      "", 
      "        out_cloud = pts.create_cloud_xyz32(data.points.header, out_pts)", 
      "        return out_cloud"
     ], 
     "language": "python", 
     "outputs": [], 
     "prompt_number": 2
    }, 
    {
     "cell_type": "code", 
     "collapsed": true, 
     "input": [
      "class WorldUpdater():", 
      "    def __init__(self):", 
      "        self.collision_pub = rospy.Publisher('collision_object', CollisionObject)", 
      "        self.attach_pub = rospy.Publisher('attached_collision_object', AttachedCollisionObject)", 
      "        self.scene_diff_pub = rospy.Publisher('planning_scene_world', PlanningSceneWorld)", 
      "        ", 
      "        self.listener = tf.TransformListener()", 
      "        self.scene_client = rospy.ServiceProxy('get_planning_scene', GetPlanningScene)", 
      "        ", 
      "   ", 
      "        ", 
      "    def add_object(self, obj_name, object_points):", 
      "        print 'waiting to get transforms!'", 
      "        rr = rospy.Rate(1.0)", 
      "        while ((not self.listener.frameExists(\"odom_combined\") or", 
      "                not self.listener.frameExists(object_points.header.frame_id)) and ", 
      "               not rospy.is_shutdown()):", 
      "            print self.listener.frameExists(\"odom_combined\")", 
      "            print self.listener.frameExists(object_points.header.frame_id)", 
      "            rr.sleep()", 
      "        print 'got transforms!'", 
      "        ", 
      "        (obj_pose, obj_dims) = self.get_bounding_box(object_points)", 
      "        self.insert_object(obj_pose, obj_dims, obj_name)", 
      "        ", 
      "        ", 
      "    def get_bounding_box(self, points):", 
      "        world_frame = \"odom_combined\"", 
      "", 
      "        # get pointcloud in world frame", 
      "        if not self.listener.frameExists(points.header.frame_id):", 
      "            rospy.logerr(\"point cloud header frame %s does not exist!\", points.header.frame_id)", 
      "            return ", 
      "        if not self.listener.frameExists(world_frame):", 
      "            rospy.logerr(\"world frame %s does not exist!\", world_frame)", 
      "            return", 
      "", 
      "", 
      "        pc = PointCloud()", 
      "        pc.header = points.header", 
      "        iter_pt = pts.read_points(points)", 
      "        for pt in iter_pt:", 
      "            pc.points.append(Point(pt[0], pt[1], pt[2]))", 
      "        # TODO: technically, want to transform at time image was taken, but thanks ", 
      "        # to waiting for human input, will be arbitrary delay ... ", 
      "        pc.header.stamp = self.listener.getLatestCommonTime(world_frame, pc.header.frame_id)", 
      "        # TODO: should be wrapped in try/except block", 
      "        pc_world = self.listener.transformPointCloud(world_frame, pc)", 
      "", 
      "        # get world-axis-aligned bounding box", 
      "        min_x = 100.0", 
      "        max_x = -100.0", 
      "        min_y = 100.0", 
      "        max_y = -100.0", 
      "        min_z = 100.0", 
      "        max_z = -100.0", 
      "        for pt in pc_world.points:", 
      "            min_x = min(min_x, pt.x)", 
      "            max_x = max(max_x, pt.x)", 
      "            min_y = min(min_y, pt.y)", 
      "            max_y = max(max_y, pt.y)", 
      "            min_z = min(min_z, pt.z)", 
      "            max_z = max(max_z, pt.z)", 
      "        # testing whether fudging it helps", 
      "        #min_z = min_z + 0.05", 
      "        ", 
      "        # add bounding box to the planning scene", 
      "        obj_pose = PoseStamped()", 
      "        obj_pose.pose.position.x = (min_x + max_x)/2", 
      "        obj_pose.pose.position.y = (min_y + max_y)/2", 
      "        obj_pose.pose.position.z = (min_z + max_z)/2", 
      "        obj_pose.pose.orientation.z = 1.0", 
      "", 
      "        obj_pose.header.frame_id = world_frame", 
      "        obj_dims = Vector3()", 
      "        obj_dims.x = max_x - min_x", 
      "        obj_dims.y = max_y - min_y", 
      "        obj_dims.z = max_z - min_z", 
      "", 
      "        return (obj_pose, obj_dims)", 
      "", 
      "    def add_table(self):", 
      "        table_pose = PoseStamped()", 
      "        table_pose.header.frame_id = \"odom_combined\"", 
      "        table_pose.pose.position.x = 0.55", 
      "        table_pose.pose.position.y = 0.2", 
      "        table_pose.pose.position.z = 0.75", 
      "        table_pose.pose.orientation.w = 1.0", 
      "        table_dims = Point()", 
      "        table_dims.x = 0.7", 
      "        table_dims.y = 1.3", 
      "        table_dims.z = 0.05", 
      "        self.insert_object(table_pose, table_dims, \"table\")", 
      "", 
      "    def insert_object(self, pose, dims, name):", 
      "        \"\"\" Expects a PoseStamped to be input, along with a Point and string \"\"\"", 
      "        primitive = SolidPrimitive()", 
      "        primitive.type = primitive.BOX", 
      "        # TODO: this is a hack to make the buffer bigger.", 
      "        # By default, it appears to be 10cm x 10cm x 0cm, but I'm not sure which dimension is which", 
      "        primitive.dimensions = [dims.x, dims.y, dims.z]", 
      "", 
      "        add_object = CollisionObject()", 
      "        add_object.id = name", 
      "        add_object.header.frame_id = pose.header.frame_id", 
      "        add_object.operation = add_object.ADD", 
      "        ", 
      "        add_object.primitives.append(primitive)", 
      "        add_object.primitive_poses.append(pose.pose)", 
      "        ", 
      "        self.collision_pub.publish(add_object)", 
      "        ", 
      "    def remove_object(self, name):", 
      "        remove_object = CollisionObject()", 
      "        remove_object.header.frame_id = \"odom_combined\"", 
      "        remove_object.id = name", 
      "        remove_object.operation = remove_object.REMOVE", 
      "", 
      "        self.collision_pub.publish(remove_object)", 
      "        ", 
      "    def detach_object(self, name):", 
      "", 
      "        detach_object = AttachedCollisionObject()", 
      "        detach_object.object.id = name", 
      "        detach_object.link_name = \"l_wrist_roll_link\"", 
      "        detach_object.object.operation = detach_object.object.REMOVE", 
      "        self.attach_pub.publish(detach_object)", 
      "        ", 
      "    def wait_for_object(self, obj_name):", 
      "        \"\"\" On Tobias's suggestion, this function waits until the named ", 
      "        object appears in the collision world from moveit\"\"\"", 
      "        rospy.wait_for_service('get_planning_scene')", 
      "        print \"waiting for object %r to be added\" % obj_name", 
      "        has_object = False", 
      "        rr = rospy.Rate(5.0) # 5 Hz", 
      "        while (not rospy.is_shutdown()) and (not has_object):", 
      "            req = GetPlanningSceneRequest()", 
      "            req.components.components = req.components.WORLD_OBJECT_NAMES", 
      "            # TODO: should be in try/except block", 
      "            resp = self.scene_client(req)", 
      "            for obj in resp.scene.world.collision_objects:", 
      "                if obj.id == obj_name:", 
      "                    print \"Have object %r\" % (obj_name)", 
      "                    has_object = True", 
      "                    break", 
      "            rr.sleep()", 
      "                    ", 
      "    def clear_scene(self):", 
      "        ps = PlanningSceneWorld()", 
      "        ps.octomap.header.frame_id = 'odom_combined'", 
      "        ps.octomap.octomap.id = 'OcTree'", 
      "        self.scene_diff_pub.publish(ps)"
     ], 
     "language": "python", 
     "outputs": [], 
     "prompt_number": 16
    }, 
    {
     "cell_type": "code", 
     "collapsed": true, 
     "input": [
      "my_world = WorldUpdater()"
     ], 
     "language": "python", 
     "outputs": [], 
     "prompt_number": 17
    }, 
    {
     "cell_type": "code", 
     "collapsed": true, 
     "input": [
      "my_world.clear_scene()"
     ], 
     "language": "python", 
     "outputs": [], 
     "prompt_number": 18
    }, 
    {
     "cell_type": "code", 
     "collapsed": true, 
     "input": [
      "ps = PlanningSceneWorld()"
     ], 
     "language": "python", 
     "outputs": [], 
     "prompt_number": 14
    }, 
    {
     "cell_type": "code", 
     "collapsed": false, 
     "input": [
      "ps.octomap.octomap.data"
     ], 
     "language": "python", 
     "outputs": [
      {
       "output_type": "pyout", 
       "prompt_number": 15, 
       "text": [
        "[]"
       ]
      }
     ], 
     "prompt_number": 15
    }, 
    {
     "cell_type": "code", 
     "collapsed": true, 
     "input": [
      "class GenerateGrasps():", 
      "    def __init__(self):", 
      "        self.grasp_client = rospy.ServiceProxy('plan_point_cluster_grasp', GraspPlanning)", 
      "        self.draw_functions = draw_functions.DrawFunctions('grasp_markers')", 
      "", 
      "    def execute(self, object_points):", 
      "        print 'waiting for cluster grasp planner server'", 
      "        rospy.wait_for_service('plan_point_cluster_grasp')", 
      "        print '...got service'", 
      "     ", 
      "        req = GraspPlanningRequest()", 
      "        req.arm_name = \"left_arm\"", 
      "        req.cluster2 = object_points", 
      "        # TODO: I have no idea what this \"graspable object reference frame\" thing is. ", 
      "        #req.target.reference_frame_id = object_points.header.frame_id", 
      "    ", 
      "        try:", 
      "            res = self.grasp_client(req)", 
      "        except rospy.ServiceException:", 
      "            print 'grasp server call failed'", 
      "            return None", 
      "", 
      "        grasps = res.grasps", 
      "        self.show_grasps(grasps)", 
      "        return grasps", 
      " ", 
      "    def show_grasps(self, grasps): ", 
      "        poses = [grasp.grasp_pose.pose for grasp in grasps] ", 
      "        self.draw_functions.clear_grasps()", 
      "        self.draw_functions.draw_grasps(poses, grasps[0].grasp_pose.header.frame_id, pause = 0) "
     ], 
     "language": "python", 
     "outputs": [], 
     "prompt_number": 4
    }, 
    {
     "cell_type": "code", 
     "collapsed": true, 
     "input": [
      "class Pickup():", 
      "    def __init__(self):", 
      "    ", 
      "        print 'initializing Pickup'", 
      "        self.pickup_client = actionlib.SimpleActionClient('pickup', PickupAction)", 
      "        self.pickup_client.wait_for_server()", 
      "", 
      "    def execute(self, object_name, grasps):", 
      "        pickup_goal = PickupGoal()", 
      "        pickup_goal.target_name = object_name", 
      "        pickup_goal.group_name = \"left_arm\"", 
      "        pickup_goal.possible_grasps = grasps", 
      "        # Augh. I *think* that this only handles if invalidated during execution, not during planning. ", 
      "        pickup_goal.planning_options.replan = True", 
      "        pickup_goal.planning_options.replan_attempts = 5", 
      "        pickup_goal.planning_options.replan_delay = 3.0", 
      "        pickup_goal.planning_options.planning_scene_diff.is_diff = True", 
      "        pickup_goal.planning_options.planning_scene_diff.robot_state.is_diff = True", 
      "        # commenting these out b/c not allowed by the moveit_commander interface", 
      "        pickup_goal.support_surface_name = \"table\"", 
      "        #pickup_goal.allow_gripper_support_collision = True", 
      "        pickup_goal.allowed_planning_time = 5.0", 
      "", 
      "        # TODO: this shouldn't be required, I dont' think!", 
      "        #pickup_goal.allowed_touch_objects.append(userdata.object_name)", 
      "", 
      "", 
      "        # THIS IS THE ACTIONLIB APPROACH", 
      "        # Fill in the goal here", 
      "        self.pickup_client.send_goal(pickup_goal)", 
      "        self.pickup_client.wait_for_result()", 
      "        pickup_result = self.pickup_client.get_result()", 
      "        print 'Pickup result: %d' % (pickup_result.error_code.val,)", 
      "        if pickup_result.error_code.val == 1:", 
      "            return True", 
      "        else:", 
      "            return False"
     ], 
     "language": "python", 
     "outputs": [], 
     "prompt_number": 5
    }, 
    {
     "cell_type": "code", 
     "collapsed": true, 
     "input": [
      "class Drop():", 
      "    def __init__(self):", 
      "        self.collision_pub = rospy.Publisher('collision_object', CollisionObject)", 
      "        self.place_client = actionlib.SimpleActionClient('place', PlaceAction)", 
      "        self.place_client.wait_for_server()", 
      "", 
      "    def execute(self, object_name):", 
      "", 
      "        place_goal = PlaceGoal()", 
      "        place_goal.group_name = \"left_arm\"", 
      "        place_goal.attached_object_name = object_name", 
      "        place_goal.place_eef = True", 
      "        place_goal.place_locations = self.get_place_locations()", 
      "        place_goal.allowed_planning_time = 5.0", 
      "        place_goal.planning_options.planning_scene_diff.is_diff = True", 
      "        place_goal.planning_options.planning_scene_diff.robot_state.is_diff = True", 
      "", 
      "        self.place_client.send_goal(place_goal)", 
      "        self.place_client.wait_for_result()", 
      "        place_result = self.place_client.get_result()", 
      "        print 'Place result: %d' % (place_result.error_code.val,)", 
      "        if place_result.error_code.val == 1:", 
      "            return True", 
      "        else:", 
      "            return False", 
      "    ", 
      "    def get_place_locations(self):", 
      "        locations = []", 
      "        for xx in np.arange(0.4, 0.7, 0.1):", 
      "            for yy in np.arange(0.5, 0.9, 0.1):", 
      "                pl = PlaceLocation()", 
      "                ", 
      "                pt = JointTrajectoryPoint()", 
      "                pt.positions = [0.5]", 
      "                pl.post_place_posture.points.append(pt)", 
      "                pl.post_place_posture.joint_names = ['l_gripper_motor_screw_joint']", 
      "                ", 
      "                pl.place_pose.header.frame_id = \"odom_combined\"", 
      "                pl.place_pose.header.stamp = rospy.Time.now()", 
      "                pl.place_pose.pose.position.x = xx", 
      "                pl.place_pose.pose.position.y = yy", 
      "                pl.place_pose.pose.position.z = 1.05", 
      "                # Quaternion obtained by pointing wrist down", 
      "                #pl.place_pose.pose.orientation.w = 1.0", 
      "                pl.place_pose.pose.orientation.x = 0.761", 
      "                pl.place_pose.pose.orientation.y = -0.003", 
      "                pl.place_pose.pose.orientation.z = -0.648", 
      "                pl.place_pose.pose.orientation.w = 0.015", 
      "", 
      "                pl.pre_place_approach.direction.header.frame_id = \"odom_combined\"", 
      "                pl.pre_place_approach.direction.vector.z = -1.0", 
      "                pl.pre_place_approach.desired_distance = 0.2", 
      "                pl.pre_place_approach.min_distance = 0.1", 
      "                ", 
      "                pl.post_place_retreat.direction.header.frame_id = \"odom_combined\"", 
      "                pl.post_place_retreat.direction.vector.z = 1.0", 
      "                pl.post_place_retreat.desired_distance = 0.2", 
      "                pl.post_place_retreat.min_distance = 0.1", 
      "   ", 
      "                locations.append(pl)", 
      "        return locations", 
      "", 
      "    "
     ], 
     "language": "python", 
     "outputs": [], 
     "prompt_number": 6
    }, 
    {
     "cell_type": "markdown", 
     "source": [
      "### Using these classes ...."
     ]
    }, 
    {
     "cell_type": "code", 
     "collapsed": true, 
     "input": [
      "rospy.init_node(\"ipython_clear_table\")"
     ], 
     "language": "python", 
     "outputs": [], 
     "prompt_number": 7
    }, 
    {
     "cell_type": "code", 
     "collapsed": false, 
     "input": [
      "my_segmenter = Segmenter()"
     ], 
     "language": "python", 
     "outputs": [
      {
       "output_type": "stream", 
       "stream": "stdout", 
       "text": [
        "initializing Segment"
       ]
      }
     ], 
     "prompt_number": 8
    }, 
    {
     "cell_type": "code", 
     "collapsed": true, 
     "input": [
      "my_world = WorldUpdater()"
     ], 
     "language": "python", 
     "outputs": [], 
     "prompt_number": 9
    }, 
    {
     "cell_type": "code", 
     "collapsed": true, 
     "input": [
      "my_grasper = GenerateGrasps()"
     ], 
     "language": "python", 
     "outputs": [], 
     "prompt_number": 10
    }, 
    {
     "cell_type": "code", 
     "collapsed": false, 
     "input": [
      "my_picker = Pickup()"
     ], 
     "language": "python", 
     "outputs": [
      {
       "output_type": "stream", 
       "stream": "stdout", 
       "text": [
        "initializing Pickup"
       ]
      }
     ], 
     "prompt_number": 11
    }, 
    {
     "cell_type": "code", 
     "collapsed": true, 
     "input": [
      "my_drop = Drop()"
     ], 
     "language": "python", 
     "outputs": [], 
     "prompt_number": 12
    }, 
    {
     "cell_type": "code", 
     "collapsed": false, 
     "input": [
      "points = my_segmenter.execute()"
     ], 
     "language": "python", 
     "outputs": [
      {
       "output_type": "stream", 
       "stream": "stdout", 
       "text": [
        "waiting for assemble_kinect service", 
        "... got service", 
        "waiting for segmentation server", 
        "... got segmentation server", 
        "Attempting to get segmentation"
       ]
      }, 
      {
       "output_type": "stream", 
       "stream": "stdout", 
       "text": [
        "", 
        "... got segmentation"
       ]
      }, 
      {
       "output_type": "stream", 
       "stream": "stdout", 
       "text": [
        "", 
        "I should be publishing points!", 
        "done creating output point cloud"
       ]
      }, 
      {
       "output_type": "stream", 
       "stream": "stdout", 
       "text": []
      }
     ], 
     "prompt_number": 18
    }, 
    {
     "cell_type": "code", 
     "collapsed": false, 
     "input": [
      "# If this fails, it's probably the pr2_gripper_grasp_planner having a key error.", 
      "# Keep restarting that node until it behaves.", 
      "grasps = my_grasper.execute(points)"
     ], 
     "language": "python", 
     "outputs": [
      {
       "output_type": "stream", 
       "stream": "stdout", 
       "text": [
        "waiting for cluster grasp planner server", 
        "...got service"
       ]
      }
     ], 
     "prompt_number": 19
    }, 
    {
     "cell_type": "code", 
     "collapsed": false, 
     "input": [
      "my_world.clear_scene()", 
      "my_world.add_table()", 
      "my_world.add_object(\"obj1\", points)"
     ], 
     "language": "python", 
     "outputs": [
      {
       "output_type": "stream", 
       "stream": "stdout", 
       "text": [
        "waiting to get transforms!", 
        "got transforms!"
       ]
      }
     ], 
     "prompt_number": 38
    }, 
    {
     "cell_type": "code", 
     "collapsed": false, 
     "input": [
      "my_world.wait_for_object(\"obj1\")"
     ], 
     "language": "python", 
     "outputs": [
      {
       "output_type": "stream", 
       "stream": "stdout", 
       "text": [
        "waiting for object 'obj1' to be added", 
        "Have object 'obj1'"
       ]
      }, 
      {
       "output_type": "stream", 
       "stream": "stdout", 
       "text": []
      }
     ], 
     "prompt_number": 21
    }, 
    {
     "cell_type": "code", 
     "collapsed": false, 
     "input": [
      "# Look at the rviz output to see where the grasps failed", 
      "# Also - `rosmsg show -r MoveItErrorCodes` to interpret the result", 
      "rr = rospy.Rate(0.3)", 
      "success = False", 
      "for count in range(1):", 
      "    success = my_picker.execute(\"obj1\", grasps)", 
      "    if success:", 
      "        break", 
      "    rr.sleep()"
     ], 
     "language": "python", 
     "outputs": [
      {
       "output_type": "stream", 
       "stream": "stdout", 
       "text": [
        "Pickup result: -1"
       ]
      }
     ], 
     "prompt_number": 39
    }, 
    {
     "cell_type": "code", 
     "collapsed": false, 
     "input": [
      "my_drop.execute(\"obj1\")"
     ], 
     "language": "python", 
     "outputs": [
      {
       "output_type": "stream", 
       "stream": "stdout", 
       "text": [
        "Place result: 1"
       ]
      }, 
      {
       "output_type": "pyout", 
       "prompt_number": 17, 
       "text": [
        "True"
       ]
      }
     ], 
     "prompt_number": 17
    }, 
    {
     "cell_type": "code", 
     "collapsed": true, 
     "input": [
      "my_world.remove_object(\"obj1\")"
     ], 
     "language": "python", 
     "outputs": [], 
     "prompt_number": 277
    }, 
    {
     "cell_type": "code", 
     "collapsed": true, 
     "input": [
      "my_world.clear_scene()", 
      "my_world.add_table()"
     ], 
     "language": "python", 
     "outputs": [], 
     "prompt_number": 281
    }, 
    {
     "cell_type": "code", 
     "collapsed": false, 
     "input": [
      "my_world.add_object(\"obj1\", points)"
     ], 
     "language": "python", 
     "outputs": [
      {
       "output_type": "stream", 
       "stream": "stdout", 
       "text": [
        "waiting to get transforms!", 
        "got transforms!"
       ]
      }
     ], 
     "prompt_number": 299
    }, 
    {
     "cell_type": "code", 
     "collapsed": true, 
     "input": [
      "my_world.add_table()"
     ], 
     "language": "python", 
     "outputs": [], 
     "prompt_number": 37
    }, 
    {
     "cell_type": "code", 
     "collapsed": true, 
     "input": [
      "my_world.detach_object(\"obj1\")", 
      "my_world.remove_object(\"obj1\")"
     ], 
     "language": "python", 
     "outputs": [], 
     "prompt_number": 293
    }, 
    {
     "cell_type": "code", 
     "collapsed": true, 
     "input": [
      "my_world.clear_scene()"
     ], 
     "language": "python", 
     "outputs": [], 
     "prompt_number": 13
    }, 
    {
     "cell_type": "code", 
     "collapsed": true, 
     "input": [], 
     "language": "python", 
     "outputs": []
    }
   ]
  }
 ]
}
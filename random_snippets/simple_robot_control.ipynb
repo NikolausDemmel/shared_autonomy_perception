{
 "metadata": {
  "name": "simple_robot_control"
 }, 
 "nbformat": 2, 
 "worksheets": [
  {
   "cells": [
    {
     "cell_type": "markdown", 
     "source": [
      "## simple_robot_control", 
      "", 
      "", 
      "This document is Laura figuring out how to programmatically control the PR2 using Bosch's simple_Robot_control package.", 
      "(http://wiki.ros.org/simple_robot_control). Most of the code is taken from an email from Dejan.", 
      "", 
      "It assumes that 'robot start' and 'roslaunch simple_robot_control simple_robot_control_without_collision_checking.launch' have already been run on the PR2."
     ]
    }, 
    {
     "cell_type": "code", 
     "collapsed": true, 
     "input": [
      "import roslib", 
      "roslib.load_manifest('simple_robot_control')"
     ], 
     "language": "python", 
     "outputs": [], 
     "prompt_number": 2
    }, 
    {
     "cell_type": "code", 
     "collapsed": true, 
     "input": [
      "import rospy", 
      "rospy.init_node('foobar')"
     ], 
     "language": "python", 
     "outputs": [], 
     "prompt_number": 3
    }, 
    {
     "cell_type": "code", 
     "collapsed": true, 
     "input": [
      "import simple_robot_control"
     ], 
     "language": "python", 
     "outputs": [], 
     "prompt_number": 4
    }, 
    {
     "cell_type": "markdown", 
     "source": [
      "### Torso", 
      "", 
      "", 
      "torso position must be in [0.0 , 0.3]; I believe that this is (m)", 
      "", 
      "0.0 is fully down, 0.3 is fully raised. ", 
      "", 
      "TODO - calling torso.move(0.0) hangs, but torso.move(0.3) is OK. If it hangs, click \"restart kernel\", and rerun everything."
     ]
    }, 
    {
     "cell_type": "code", 
     "collapsed": true, 
     "input": [
      "torso = simple_robot_control.Torso()"
     ], 
     "language": "python", 
     "outputs": [], 
     "prompt_number": 5
    }, 
    {
     "cell_type": "code", 
     "collapsed": true, 
     "input": [
      "torso.move(0.01)"
     ], 
     "language": "python", 
     "outputs": [], 
     "prompt_number": 12
    }, 
    {
     "cell_type": "code", 
     "collapsed": true, 
     "input": [
      "torso.move(0.3)"
     ], 
     "language": "python", 
     "outputs": [], 
     "prompt_number": 13
    }, 
    {
     "cell_type": "markdown", 
     "source": [
      "### Arms - joint positions", 
      "", 
      "In order, the joints are:", 
      "", 
      "(NB - in/out/up refers to relative to arms straight out in front - i.e. at [0,0,0,0,0,0,0])", 
      "", 
      "* shoulder pan (angles appear to be relative to base_link z)", 
      "  * R: [-130, 40] pos is towards inside", 
      "  * L: [-40, 130] neg is towards inside", 
      "* shoulder lift", 
      "  * both: [-30, 80] pos is towards floor", 
      "* upper arm roll (this seems to be the grumpy/noisy one)", 
      "  * R: [-224, 44] neg is rotating inward", 
      "  * L: [-44, 224] pos is rotating inward", 
      "* elbow flex", 
      "  * both: [-133, 0] 0 is straight", 
      "* forearm roll", 
      "  * both: continuous, direction it turns is dependent on shortest delta to commanded angle. ", 
      "  * R: positive angles rotate out from 0", 
      "  * L: positive angles rotate in from 0", 
      "* wrist flex 0 - 130", 
      "  * both: [-130, 0] neg is up", 
      "* wrist roll", 
      "* both: continuous", 
      "  * R: neg is inward", 
      "  * L: neg is outward", 
      "", 
      "I'm reporting the limits from the manual: http://pr2support.willowgarage.com/wiki/PR2%20Manual?action=AttachFile&do=get&target=pr2_manual_r321.pdf", 
      "", 
      "", 
      "(Can see this via $ rosparam get l_arm_controller/joints)"
     ]
    }, 
    {
     "cell_type": "code", 
     "collapsed": false, 
     "input": [
      "arm_l = simple_robot_control.Arm('l')", 
      "arm_r = simple_robot_control.Arm('r')"
     ], 
     "language": "python", 
     "outputs": [], 
     "prompt_number": 6
    }, 
    {
     "cell_type": "code", 
     "collapsed": true, 
     "input": [
      "seed_angles_right = (-0.30602663803638308, -0.22452762436650531, -2.7726116685813418,", 
      "-1.4552716241378085, 1.6979276700705206, -0.87940766712047758,", 
      "0.21072937388002821)", 
      "seed_angles_left = (0.91594546550825928, 0.087801870823198097, 2.0382464696189024,", 
      "-1.6494754971176555, 0.54655591405435899, -0.46256099006724649,", 
      "-0.51237279177043837)"
     ], 
     "language": "python", 
     "outputs": [], 
     "prompt_number": 9
    }, 
    {
     "cell_type": "code", 
     "collapsed": true, 
     "input": [
      "arm_r.goToAngle(seed_angles_right, 5.0)"
     ], 
     "language": "python", 
     "outputs": [], 
     "prompt_number": 92
    }, 
    {
     "cell_type": "code", 
     "collapsed": true, 
     "input": [
      "arm_l.goToAngle(seed_angles_left, 5.0)"
     ], 
     "language": "python", 
     "outputs": [], 
     "prompt_number": 91
    }, 
    {
     "cell_type": "markdown", 
     "source": [
      "#### Shoulder pan"
     ]
    }, 
    {
     "cell_type": "code", 
     "collapsed": true, 
     "input": [
      "# this caused some obnoxious grinding", 
      "arm_r.goToAngle([-90*pi/180,0,0,0,0,0,0], 5.0) "
     ], 
     "language": "python", 
     "outputs": [], 
     "prompt_number": 13
    }, 
    {
     "cell_type": "code", 
     "collapsed": true, 
     "input": [
      "arm_l.goToAngle([0,0,0,0,0,0,0], 5.0)"
     ], 
     "language": "python", 
     "outputs": [], 
     "prompt_number": 7
    }, 
    {
     "cell_type": "markdown", 
     "source": [
      "####Shoulder lift"
     ]
    }, 
    {
     "cell_type": "code", 
     "collapsed": false, 
     "input": [
      "arm_r.goToAngle([-90*pi/180, 80*pi/180, 0, 0, 0, 0, 0], 5.0)"
     ], 
     "language": "python", 
     "outputs": [], 
     "prompt_number": 12
    }, 
    {
     "cell_type": "code", 
     "collapsed": true, 
     "input": [
      "arm_l.goToAngle([0,-20*pi/180,0,0,0,0,0], 5.0)"
     ], 
     "language": "python", 
     "outputs": []
    }, 
    {
     "cell_type": "markdown", 
     "source": [
      "#### Upper arm roll"
     ]
    }, 
    {
     "cell_type": "code", 
     "collapsed": true, 
     "input": [
      "# much of these was grinding. ", 
      "arm_r.goToAngle([-90*pi/180, 0, 44*pi/180, 0, 0, 0, 0], 5.0)"
     ], 
     "language": "python", 
     "outputs": [], 
     "prompt_number": 18
    }, 
    {
     "cell_type": "code", 
     "collapsed": true, 
     "input": [
      "arm_l.goToAngle([0,0,-44*pi/180,0,0,0,0], 5.0)"
     ], 
     "language": "python", 
     "outputs": [], 
     "prompt_number": 21
    }, 
    {
     "cell_type": "markdown", 
     "source": [
      "#### Elbow flex"
     ]
    }, 
    {
     "cell_type": "code", 
     "collapsed": true, 
     "input": [
      "arm_r.goToAngle([-90*pi/180,0,0,-90*pi/180,0,0,0], 5.0)"
     ], 
     "language": "python", 
     "outputs": [], 
     "prompt_number": 30
    }, 
    {
     "cell_type": "code", 
     "collapsed": true, 
     "input": [
      "arm_l.goToAngle([0,0,0,-133*pi/180,0,0,0], 5.0)"
     ], 
     "language": "python", 
     "outputs": [], 
     "prompt_number": 26
    }, 
    {
     "cell_type": "markdown", 
     "source": [
      "#### Forearm roll"
     ]
    }, 
    {
     "cell_type": "code", 
     "collapsed": true, 
     "input": [
      "arm_r.goToAngle([-90*pi/180,0,0,0,-90*pi/180,0,0], 5.0)"
     ], 
     "language": "python", 
     "outputs": [], 
     "prompt_number": 41
    }, 
    {
     "cell_type": "code", 
     "collapsed": true, 
     "input": [
      "arm_l.goToAngle([0,0,0,0,90*pi/180,0,0], 5.0)"
     ], 
     "language": "python", 
     "outputs": [], 
     "prompt_number": 43
    }, 
    {
     "cell_type": "markdown", 
     "source": [
      "#### Wrist flex"
     ]
    }, 
    {
     "cell_type": "code", 
     "collapsed": true, 
     "input": [
      "arm_r.goToAngle([-90*pi/180,0,0,0,0,-75*pi/180,0], 5.0) "
     ], 
     "language": "python", 
     "outputs": [], 
     "prompt_number": 49
    }, 
    {
     "cell_type": "code", 
     "collapsed": false, 
     "input": [
      "arm_l.goToAngle([0,0,0,0,0,-75*pi/180,0], 5.0) "
     ], 
     "language": "python", 
     "outputs": [], 
     "prompt_number": 51
    }, 
    {
     "cell_type": "markdown", 
     "source": [
      "#### Wrist roll"
     ]
    }, 
    {
     "cell_type": "code", 
     "collapsed": true, 
     "input": [
      "arm_r.goToAngle([-90*pi/180,0,0,0,0,0, -75*pi/180], 5.0) "
     ], 
     "language": "python", 
     "outputs": [], 
     "prompt_number": 54
    }, 
    {
     "cell_type": "code", 
     "collapsed": true, 
     "input": [
      "arm_l.goToAngle([0,0,0,0,0,0,75*pi/180], 5.0) "
     ], 
     "language": "python", 
     "outputs": [], 
     "prompt_number": 56
    }, 
    {
     "cell_type": "markdown", 
     "source": [
      "### Arms - cartesian coordinates", 
      "", 
      "This is using inverse kinematics to move the arm s.t. the hand is at the input cartesian coordinates."
     ]
    }, 
    {
     "cell_type": "code", 
     "collapsed": false, 
     "input": [
      "arm_r.goToPosition([0.5, 0, 1.2], 'base_link', 5.0)"
     ], 
     "language": "python", 
     "outputs": [], 
     "prompt_number": 83
    }, 
    {
     "cell_type": "code", 
     "collapsed": false, 
     "input": [
      "arm_r.goToPosition([0.5, -0.5, 1.2], 'base_link', 5.0)"
     ], 
     "language": "python", 
     "outputs": [], 
     "prompt_number": 86
    }, 
    {
     "cell_type": "markdown", 
     "source": [
      "### Grippers", 
      "", 
      "It appears that the gripper pos is _roughly_ in meters, but open returns 0.079, while the limits in the document are 0.086"
     ]
    }, 
    {
     "cell_type": "code", 
     "collapsed": true, 
     "input": [
      "gripper_l = simple_robot_control.Gripper('l')", 
      "gripper_r = simple_robot_control.Gripper('r')"
     ], 
     "language": "python", 
     "outputs": [], 
     "prompt_number": 57
    }, 
    {
     "cell_type": "code", 
     "collapsed": false, 
     "input": [
      "gripper_r.openGripper()", 
      "gripper_r.getGripperPos()"
     ], 
     "language": "python", 
     "outputs": [
      {
       "output_type": "stream", 
       "stream": "stdout", 
       "text": [
        "[INFO] [WallTime: 1378851184.119108] Opening r gripper succeeded!"
       ]
      }, 
      {
       "output_type": "pyout", 
       "prompt_number": 64, 
       "text": [
        "0.07169368767915037"
       ]
      }
     ], 
     "prompt_number": 64
    }, 
    {
     "cell_type": "code", 
     "collapsed": false, 
     "input": [
      "gripper_r.closeGripper()", 
      "gripper_r.getGripperPos()"
     ], 
     "language": "python", 
     "outputs": [
      {
       "output_type": "stream", 
       "stream": "stdout", 
       "text": [
        "[INFO] [WallTime: 1378851122.059563] Closing r gripper succeeded!"
       ]
      }, 
      {
       "output_type": "pyout", 
       "prompt_number": 63, 
       "text": [
        "0.0077250968934057295"
       ]
      }
     ], 
     "prompt_number": 63
    }, 
    {
     "cell_type": "code", 
     "collapsed": false, 
     "input": [
      "gripper_l.gripperToPos(0.04)"
     ], 
     "language": "python", 
     "outputs": [
      {
       "output_type": "stream", 
       "stream": "stdout", 
       "text": [
        "[INFO] [WallTime: 1378851230.604584] Moving l gripper to position succeeded!"
       ]
      }
     ], 
     "prompt_number": 65
    }, 
    {
     "cell_type": "markdown", 
     "source": [
      "### Base"
     ]
    }, 
    {
     "cell_type": "code", 
     "collapsed": true, 
     "input": [
      "base = simple_robot_control.Base()"
     ], 
     "language": "python", 
     "outputs": [], 
     "prompt_number": 70
    }, 
    {
     "cell_type": "code", 
     "collapsed": false, 
     "input": [
      "base.driveForward(0.05)"
     ], 
     "language": "python", 
     "outputs": [], 
     "prompt_number": 80
    }, 
    {
     "cell_type": "code", 
     "collapsed": true, 
     "input": [
      "base.driveLeft(0.1)"
     ], 
     "language": "python", 
     "outputs": [], 
     "prompt_number": 74
    }, 
    {
     "cell_type": "code", 
     "collapsed": false, 
     "input": [
      "# radians, speed", 
      "base.turnLeft(-15*pi/180, 0.5)"
     ], 
     "language": "python", 
     "outputs": [], 
     "prompt_number": 88
    }, 
    {
     "cell_type": "markdown", 
     "source": [
      "### Head"
     ]
    }, 
    {
     "cell_type": "code", 
     "collapsed": true, 
     "input": [
      "head = simple_robot_control.Head()"
     ], 
     "language": "python", 
     "outputs": [], 
     "prompt_number": 90
    }, 
    {
     "cell_type": "code", 
     "collapsed": false, 
     "input": [
      "head.lookAtPoint(5, 0, 1.2, 'base_link')"
     ], 
     "language": "python", 
     "outputs": [], 
     "prompt_number": 95
    }, 
    {
     "cell_type": "code", 
     "collapsed": true, 
     "input": [
      "head.lookAtPoint(5, -2, 1.2, 'base_link')"
     ], 
     "language": "python", 
     "outputs": [], 
     "prompt_number": 96
    }, 
    {
     "cell_type": "code", 
     "collapsed": true, 
     "input": [
      "head.lookAtPoint(3, -2, 0, 'base_link')"
     ], 
     "language": "python", 
     "outputs": [], 
     "prompt_number": 98
    }, 
    {
     "cell_type": "code", 
     "collapsed": true, 
     "input": [], 
     "language": "python", 
     "outputs": []
    }
   ]
  }
 ]
}
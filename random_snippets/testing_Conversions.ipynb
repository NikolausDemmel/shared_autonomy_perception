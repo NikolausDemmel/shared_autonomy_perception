{
 "metadata": {
  "name": "testing_Conversions"
 }, 
 "nbformat": 2, 
 "worksheets": [
  {
   "cells": [
    {
     "cell_type": "code", 
     "collapsed": false, 
     "input": [
      "import rospy", 
      "import message_filters", 
      "from sensor_msgs.msg import Image,PointCloud2, CameraInfo", 
      "from stereo_msgs.msg import DisparityImage"
     ], 
     "language": "python", 
     "outputs": [], 
     "prompt_number": 1
    }, 
    {
     "cell_type": "code", 
     "collapsed": false, 
     "input": [
      "rospy.init_node('testing_conversions')"
     ], 
     "language": "python", 
     "outputs": [
      {
       "output_type": "stream", 
       "stream": "stdout", 
       "text": [
        "Unable to register with master node [http://localhost:11311]: master may not be running yet. Will keep trying."
       ]
      }
     ], 
     "prompt_number": 2
    }, 
    {
     "cell_type": "code", 
     "collapsed": true, 
     "input": [
      "class KinectAssembler():", 
      "    def __init__(self, ns):", 
      "        image_topic = ns + '/rgb/image_color'", 
      "        image_sub = message_filters.Subscriber(image_topic, Image)", 
      "        info_topic = ns+'/depth_registered/camera_info'", 
      "        info_sub = message_filters.Subscriber(info_topic, CameraInfo)", 
      "        disparity_topic = ns+'/depth_registered/disparity'", 
      "        disparity_sub = message_filters.Subscriber(disparity_topic, DisparityImage)", 
      "        point_topic = ns+'/depth_registered/points'", 
      "        point_sub = message_filters.Subscriber(point_topic, PointCloud2)", 
      "", 
      "        # GAH. the rgb image isn't exactly synchronized to the points ... ", 
      "        # and it looks like python doesn't have an approximate time synchronizer", 
      "        # see https://github.com/ros-perception/image_pipeline/blob/groovy-devel/camera_calibration/src/camera_calibration/approxsync.py", 
      "        #ts = message_filters.TimeSynchronizer([image_sub, info_sub, disparity_sub, point_sub], 10)", 
      "        ts = message_filters.TimeSynchronizer([info_sub, disparity_sub, point_sub], 10)", 
      "        ts.registerCallback(self.callback)", 
      "", 
      "        self.image = None", 
      "        self.camera_info = None", 
      "        self.disparity_image = None", 
      "        self.point_cloud2 = None", 
      "", 
      "", 
      "    # TODO: In Python, do I have to worry about a service call interrupting ", 
      "    # this callback?", 
      "    #def callback(self, image, camera_info, disparity_image, point_cloud2):", 
      "    def callback(self, camera_info, disparity_image, point_cloud2):", 
      "        #print \"got synchronized messages!\"", 
      "        #self.image = image", 
      "        self.camera_info = camera_info", 
      "        self.disparity_image = disparity_image", 
      "        self.point_cloud2 = point_cloud2", 
      "", 
      "        # TODo; figure out pointcloud -> image in ipython notebook", 
      "    ", 
      "    def get_current_points(self):", 
      "        return self.point_cloud2"
     ], 
     "language": "python", 
     "outputs": [], 
     "prompt_number": 3
    }, 
    {
     "cell_type": "code", 
     "collapsed": true, 
     "input": [
      "import roslib"
     ], 
     "language": "python", 
     "outputs": [], 
     "prompt_number": 4
    }, 
    {
     "cell_type": "code", 
     "collapsed": true, 
     "input": [
      "import ctypes", 
      "import math", 
      "import struct", 
      "", 
      "from sensor_msgs.msg import PointCloud2, PointField", 
      "", 
      "_DATATYPES = {}", 
      "_DATATYPES[PointField.INT8]    = ('b', 1)", 
      "_DATATYPES[PointField.UINT8]   = ('B', 1)", 
      "_DATATYPES[PointField.INT16]   = ('h', 2)", 
      "_DATATYPES[PointField.UINT16]  = ('H', 2)", 
      "_DATATYPES[PointField.INT32]   = ('i', 4)", 
      "_DATATYPES[PointField.UINT32]  = ('I', 4)", 
      "_DATATYPES[PointField.FLOAT32] = ('f', 4)", 
      "_DATATYPES[PointField.FLOAT64] = ('d', 8)", 
      "", 
      "def read_points(cloud, field_names=None, skip_nans=False, uvs=[]):", 
      "    \"\"\"", 
      "    Read points from a L{sensor_msgs.PointCloud2} message.", 
      "    ", 
      "    @param cloud: The point cloud to read from.", 
      "    @type  cloud: L{sensor_msgs.PointCloud2}", 
      "    @param field_names: The names of fields to read. If None, read all fields. [default: None]", 
      "    @type  field_names: iterable", 
      "    @param skip_nans: If True, then don't return any point with a NaN value.", 
      "    @type  skip_nans: bool [default: False]", 
      "    @param uvs: If specified, then only return the points at the given coordinates. [default: empty list]", 
      "    @type  uvs: iterable", 
      "    @return: Generator which yields a list of values for each point.", 
      "    @rtype:  generator", 
      "    \"\"\"", 
      "    #assert isinstance(cloud, roslib.message.Message) and cloud._type == 'sensor_msgs/PointCloud2', 'cloud is not a sensor_msgs.msg.PointCloud2'", 
      "    fmt = _get_struct_fmt(cloud.is_bigendian, cloud.fields, field_names)", 
      "    width, height, point_step, row_step, data, isnan = cloud.width, cloud.height, cloud.point_step, cloud.row_step, cloud.data, math.isnan", 
      "    unpack_from = struct.Struct(fmt).unpack_from", 
      " ", 
      "    if skip_nans:", 
      "        if uvs:", 
      "            for u, v in uvs:", 
      "                p = unpack_from(data, (row_step * v) + (point_step * u))", 
      "                has_nan = False", 
      "                for pv in p:", 
      "                    if isnan(pv):", 
      "                        has_nan = True", 
      "                        break", 
      "                if not has_nan:", 
      "                    yield p", 
      "        else:", 
      "            for v in xrange(height):", 
      "                offset = row_step * v", 
      "                for u in xrange(width):", 
      "                    p = unpack_from(data, offset)", 
      "                    has_nan = False", 
      "                    for pv in p:", 
      "                        if isnan(pv):", 
      "                            has_nan = True", 
      "                            break", 
      "                    if not has_nan:", 
      "                        yield p", 
      "                    offset += point_step", 
      "    else:", 
      "        if uvs:", 
      "            for u, v in uvs:", 
      "                yield unpack_from(data, (row_step * v) + (point_step * u))", 
      "        else:", 
      "            for v in xrange(height):", 
      "                offset = row_step * v", 
      "                for u in xrange(width):", 
      "                    yield unpack_from(data, offset)", 
      "                    offset += point_step"
     ], 
     "language": "python", 
     "outputs": [], 
     "prompt_number": 14
    }, 
    {
     "cell_type": "code", 
     "collapsed": true, 
     "input": [
      "def create_cloud(header, fields, points):", 
      "    \"\"\"", 
      "    Create a L{sensor_msgs.msg.PointCloud2} message.", 
      "", 
      "    @param header: The point cloud header.", 
      "    @type  header: L{std_msgs.msg.Header}", 
      "    @param fields: The point cloud fields.", 
      "    @type  fields: iterable of L{sensor_msgs.msg.PointField}", 
      "    @param points: The point cloud points.", 
      "    @type  points: list of iterables, i.e. one iterable for each point, with the", 
      "                   elements of each iterable being the values of the fields for", 
      "                   that point (in the same order as the fields parameter)", 
      "    @return: The point cloud.", 
      "    @rtype:  L{sensor_msgs.msg.PointCloud2}", 
      "    \"\"\"", 
      "", 
      "    cloud_struct = struct.Struct(_get_struct_fmt(False, fields))", 
      "", 
      "    buff = ctypes.create_string_buffer(cloud_struct.size * len(points))", 
      "   ", 
      "    point_step, pack_into = cloud_struct.size, cloud_struct.pack_into", 
      "    offset = 0", 
      "    for p in points:", 
      "        pack_into(buff, offset, *p)", 
      "        offset += point_step", 
      "   ", 
      "    return PointCloud2(header=header,", 
      "                       height=1,", 
      "                       width=len(points),", 
      "                       is_dense=False,", 
      "                       is_bigendian=False,", 
      "                       fields=fields,", 
      "                       point_step=cloud_struct.size,", 
      "                       row_step=cloud_struct.size * len(points),", 
      "                       data=buff.raw)", 
      "   "
     ], 
     "language": "python", 
     "outputs": [], 
     "prompt_number": 15
    }, 
    {
     "cell_type": "code", 
     "collapsed": true, 
     "input": [
      "", 
      "def create_cloud_xyz32(header, points):", 
      "    \"\"\"", 
      "    Create a L{sensor_msgs.msg.PointCloud2} message with 3 float32 fields (x, y, z).", 
      "", 
      "    @param header: The point cloud header.", 
      "    @type  header: L{std_msgs.msg.Header}", 
      "    @param points: The point cloud points.", 
      "    @type  points: iterable", 
      "    @return: The point cloud.", 
      "    @rtype:  L{sensor_msgs.msg.PointCloud2}", 
      "    \"\"\"", 
      "    fields = [PointField('x', 0, PointField.FLOAT32, 1),", 
      "              PointField('y', 4, PointField.FLOAT32, 1),", 
      "              PointField('z', 8, PointField.FLOAT32, 1)]", 
      "    return create_cloud(header, fields, points)", 
      "   "
     ], 
     "language": "python", 
     "outputs": [], 
     "prompt_number": 16
    }, 
    {
     "cell_type": "code", 
     "collapsed": true, 
     "input": [
      "def _get_struct_fmt(is_bigendian, fields, field_names=None):", 
      "    fmt = '>' if is_bigendian else '<'", 
      "   ", 
      "    offset = 0", 
      "    for field in (f for f in sorted(fields, key=lambda f: f.offset) if field_names is None or f.name in field_names):", 
      "        if offset < field.offset:", 
      "            fmt += 'x' * (field.offset - offset)", 
      "            offset = field.offset", 
      "        if field.datatype not in _DATATYPES:", 
      "            print >> sys.stderr, 'Skipping unknown PointField datatype [%d]' % field.datatype", 
      "        else:", 
      "            datatype_fmt, datatype_length = _DATATYPES[field.datatype]", 
      "            fmt    += field.count * datatype_fmt", 
      "            offset += field.count * datatype_length", 
      "    ", 
      "    return fmt"
     ], 
     "language": "python", 
     "outputs": [], 
     "prompt_number": 17
    }, 
    {
     "cell_type": "code", 
     "collapsed": true, 
     "input": [], 
     "language": "python", 
     "outputs": []
    }, 
    {
     "cell_type": "code", 
     "collapsed": true, 
     "input": [
      "ka = KinectAssembler('/camera')", 
      "pc = ka.get_current_points()"
     ], 
     "language": "python", 
     "outputs": [], 
     "prompt_number": 10
    }, 
    {
     "cell_type": "code", 
     "collapsed": true, 
     "input": [
      "cloud = rospy.wait_for_message('/camera/depth_registered/points', PointCloud2)"
     ], 
     "language": "python", 
     "outputs": [], 
     "prompt_number": 11
    }, 
    {
     "cell_type": "code", 
     "collapsed": true, 
     "input": [
      "gg = read_points(cloud)"
     ], 
     "language": "python", 
     "outputs": [], 
     "prompt_number": 18
    }, 
    {
     "cell_type": "code", 
     "collapsed": false, 
     "input": [
      "gg.next()"
     ], 
     "language": "python", 
     "outputs": [
      {
       "output_type": "pyout", 
       "prompt_number": 19, 
       "text": [
        "(nan, nan, nan, 1.779267756380375e-38)"
       ]
      }
     ], 
     "prompt_number": 19
    }, 
    {
     "cell_type": "code", 
     "collapsed": true, 
     "input": [
      "import numpy"
     ], 
     "language": "python", 
     "outputs": [], 
     "prompt_number": 20
    }, 
    {
     "cell_type": "code", 
     "collapsed": true, 
     "input": [
      "gg = read_points(cloud)"
     ], 
     "language": "python", 
     "outputs": [], 
     "prompt_number": 21
    }, 
    {
     "cell_type": "code", 
     "collapsed": false, 
     "input": [
      "valid = numpy.zeros([cloud.width, cloud.height])", 
      "for jj in range(cloud.height):", 
      "    for ii in range(cloud.width):", 
      "        pt = gg.next()", 
      "        if not isnan(pt[0]):", 
      "            valid[ii][jj] = 1", 
      "imshow(valid)", 
      "            "
     ], 
     "language": "python", 
     "outputs": [
      {
       "output_type": "pyout", 
       "prompt_number": 22, 
       "text": [
        "<matplotlib.image.AxesImage at 0x7f0fc804ab10>"
       ]
      }, 
      {
       "output_type": "display_data", 
       "png": "[encoded data removed]"
      }
     ], 
     "prompt_number": 22
    }, 
    {
     "cell_type": "code", 
     "collapsed": false, 
     "input": [
      "gg = read_points(cloud)", 
      "pt = gg.next()", 
      "while isnan(pt[0]):", 
      "    pt = gg.next()", 
      "print pt"
     ], 
     "language": "python", 
     "outputs": [
      {
       "output_type": "stream", 
       "stream": "stdout", 
       "text": [
        "(-1.011958122253418, -0.737062931060791, 1.8040001392364502, 1.8620645971837782e-38)"
       ]
      }
     ], 
     "prompt_number": 23
    }, 
    {
     "cell_type": "code", 
     "collapsed": true, 
     "input": [], 
     "language": "python", 
     "outputs": []
    }
   ]
  }
 ]
}